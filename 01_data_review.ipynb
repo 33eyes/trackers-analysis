{
 "cells": [
  {
   "cell_type": "markdown",
   "id": "278617bd-04a9-4237-adf0-b55df4ea6c3a",
   "metadata": {},
   "source": [
    "# Fitbit tracker data review "
   ]
  },
  {
   "cell_type": "markdown",
   "id": "4977bcbb-ccc9-4748-9094-e4f10ccf59cb",
   "metadata": {},
   "source": [
    "#### Description  \n",
    "In this notebook, we review the data from a Fitbit tracker data download to see if it can help us investigate our research goal.   \n",
    "\n",
    "I use my own Fitbit tracker data download and my research goal as an example here. If you use a Fitbit tracker, you can download your Fitbit data using [these instructions](https://help.fitbit.com/articles/en_US/Help_article/1133.htm) and follow along.  \n",
    "\n",
    "**My research goal:** to understand better how my wellness habits affect how well I feel.\n",
    "\n",
    "#### Guiding questions for this data review:  \n",
    "- What kind of data is available?  \n",
    "- What is the format of the data?  \n",
    "- For time series data, what are the frequency and date ranges of the data?  \n",
    "- Does the data appear to have lots of missing values?  \n",
    "- How can this data help investigate the research goal?\n",
    "- Is this data enough for the research goal? If not, what information is missing?  \n",
    "#### Steps:\n",
    "- Download the Fitbit tracker data and unzip it    \n",
    "- Browse the folders  \n",
    "- Browse any documentation/README files included  \n",
    "- Take a look at the data files contents  \n",
    "\n",
    " \n",
    "Depending on your Fitbit device and subscriptions, some of these folders do not have any data. And some folders contain irrelevant data, like profile information. In addition, any folders for Fitbit features you did not use much probably will not have any useful data. To simplify things, you can delete any empty or irrelevant folders.  \n",
    "\n",
    "I have a very basic Fitbit tracker, the Inspire HR, and a free Fitbit account, and I have relevant data in the following folders:  \n",
    "- Physical Activity  \n",
    "- Sleep  \n",
    "- Menstrual Health  \n",
    "\n",
    "Your available tracker data may be very different, but the steps to review it at a high level should be similar.  \n",
    "\n",
    "Let's review the data."
   ]
  },
  {
   "cell_type": "code",
   "execution_count": null,
   "id": "50b68537-3d80-4d3b-b6fa-f5bc85bccd7b",
   "metadata": {},
   "outputs": [],
   "source": [
    "import pandas as pd\n",
    "\n",
    "import os\n",
    "from dotenv import load_dotenv"
   ]
  },
  {
   "cell_type": "code",
   "execution_count": null,
   "id": "e266e44c-e9eb-44ed-b80a-594ba42f67cf",
   "metadata": {},
   "outputs": [],
   "source": [
    "load_dotenv()  # take environment variables from .env."
   ]
  },
  {
   "cell_type": "code",
   "execution_count": null,
   "id": "fe3fccf6-2441-440d-8392-f30e1e8d68e0",
   "metadata": {},
   "outputs": [],
   "source": [
    "data_path = os.environ.get(\"DATAPATH\")"
   ]
  },
  {
   "cell_type": "code",
   "execution_count": null,
   "id": "56e24fdb-c008-425f-a39f-07683478464f",
   "metadata": {},
   "outputs": [],
   "source": [
    "!ls $data_path"
   ]
  },
  {
   "cell_type": "markdown",
   "id": "f75cd4b2-594a-47fa-a609-cf1c68332032",
   "metadata": {
    "tags": []
   },
   "source": [
    "## Physical Activity data"
   ]
  },
  {
   "cell_type": "code",
   "execution_count": null,
   "id": "8ca89010-9d0d-4272-998b-042a1b6a4492",
   "metadata": {},
   "outputs": [],
   "source": [
    "folder_name = 'Physical\\ Activity'"
   ]
  },
  {
   "cell_type": "code",
   "execution_count": null,
   "id": "f184691f-185c-4dbc-b637-0c39ac25524b",
   "metadata": {},
   "outputs": [],
   "source": [
    "!ls $data_path/$folder_name | grep \".txt\""
   ]
  },
  {
   "cell_type": "code",
   "execution_count": null,
   "id": "f551c1d5-3467-46ac-a68e-4ec1d555cabb",
   "metadata": {},
   "outputs": [],
   "source": [
    "!ls $data_path/$folder_name | grep \"README\""
   ]
  },
  {
   "cell_type": "code",
   "execution_count": null,
   "id": "17b8989b-5c67-4321-9ea0-72f1983a7a45",
   "metadata": {},
   "outputs": [],
   "source": [
    "!cat $data_path/$folder_name/Daily\\ Readiness\\ README.txt"
   ]
  },
  {
   "cell_type": "markdown",
   "id": "03467a29-637d-455c-b7b8-e1675f1b003e",
   "metadata": {},
   "source": [
    "The folder \"Physical Activity\" has a ton of files. The json datafiles are organized by measurement type and either daily or monthly date.  "
   ]
  },
  {
   "cell_type": "markdown",
   "id": "3839844c-9b3d-4864-8150-f246bbe738fe",
   "metadata": {},
   "source": [
    "This list of files shows the available measurement types:"
   ]
  },
  {
   "cell_type": "code",
   "execution_count": null,
   "id": "f4be8e0d-7f3c-48a6-b867-bdeae448d094",
   "metadata": {},
   "outputs": [],
   "source": [
    "%%capture capt\n",
    "\n",
    "!ls $data_path/$folder_name "
   ]
  },
  {
   "cell_type": "code",
   "execution_count": null,
   "id": "cfd5dc0d-da62-4455-9480-bf295e6b0af1",
   "metadata": {},
   "outputs": [],
   "source": [
    "file_names_list = capt.stdout.split('\\r\\n')"
   ]
  },
  {
   "cell_type": "code",
   "execution_count": null,
   "id": "be30e63f-bb40-43bf-9e97-effefa92fbc0",
   "metadata": {},
   "outputs": [],
   "source": [
    "x_last_prefix = ''\n",
    "j = 0\n",
    "for x in list(reversed(file_names_list)):\n",
    "    x_prefix = x.split('-')[0]\n",
    "    if x_prefix != x_last_prefix:\n",
    "        print('\\n-------')\n",
    "        print(f'{x_prefix}\\n')\n",
    "        j = 0\n",
    "        \n",
    "    if j < 5:\n",
    "        print(x)  \n",
    "        \n",
    "    j += 1 \n",
    "    x_last_prefix = x_prefix"
   ]
  },
  {
   "cell_type": "markdown",
   "id": "9e05b131-2b9d-4d48-a741-61cfca26db61",
   "metadata": {},
   "source": [
    "Let's look at some sample raw data in those files."
   ]
  },
  {
   "cell_type": "code",
   "execution_count": null,
   "id": "cbca9aeb-09dc-4ff3-9676-ac80c5125399",
   "metadata": {},
   "outputs": [],
   "source": [
    "!head -n 20 $data_path/$folder_name/calories-2023-01-06.json"
   ]
  },
  {
   "cell_type": "code",
   "execution_count": null,
   "id": "9eddb0a2-9755-401c-9ba5-41e64218a533",
   "metadata": {},
   "outputs": [],
   "source": [
    "!head -n 20 $data_path/$folder_name/distance-2023-01-06.json"
   ]
  },
  {
   "cell_type": "code",
   "execution_count": null,
   "id": "a3c4b302-ebe1-445a-90a7-dec781543714",
   "metadata": {},
   "outputs": [],
   "source": [
    "!head -n 20 $data_path/$folder_name/heart_rate-2023-01-06.json"
   ]
  },
  {
   "cell_type": "code",
   "execution_count": null,
   "id": "79a21a7e-0eb0-409b-9eb1-950dfdee03c1",
   "metadata": {},
   "outputs": [],
   "source": [
    "!head -n 20 $data_path/$folder_name/lightly_active_minutes-2023-01-06.json"
   ]
  },
  {
   "cell_type": "code",
   "execution_count": null,
   "id": "3cfa9652-9478-4c6d-9653-b536d9c3d40a",
   "metadata": {},
   "outputs": [],
   "source": [
    "!head -n 20 $data_path/$folder_name/steps-2023-01-06.json"
   ]
  },
  {
   "cell_type": "code",
   "execution_count": null,
   "id": "f9d0ba3a-5b82-4c37-a62c-67c45e9915a8",
   "metadata": {},
   "outputs": [],
   "source": [
    "!tail -n 20 $data_path/$folder_name/steps-2023-01-06.json"
   ]
  },
  {
   "cell_type": "code",
   "execution_count": null,
   "id": "57d68421-26ad-4c24-9aaa-cf2fcea2c862",
   "metadata": {},
   "outputs": [],
   "source": [
    "!head -n 20 $data_path/$folder_name/time_in_heart_rate_zones-2023-01-06.json"
   ]
  },
  {
   "cell_type": "code",
   "execution_count": null,
   "id": "fd573975-5d3e-4a29-801e-62cbf7461b4d",
   "metadata": {},
   "outputs": [],
   "source": [
    "!ls $data_path/$folder_name | grep \"demographic_vo2_max-.*.json\""
   ]
  },
  {
   "cell_type": "code",
   "execution_count": null,
   "id": "b5b2fb66-d481-4c6d-9fd8-88f66d69532b",
   "metadata": {},
   "outputs": [],
   "source": [
    "!head -n 20 $data_path/$folder_name/demographic_vo2_max-2022-10-18.json"
   ]
  },
  {
   "cell_type": "code",
   "execution_count": null,
   "id": "0c343971-037b-4e21-81ab-c668f06dce78",
   "metadata": {},
   "outputs": [],
   "source": [
    "!head -n 100 $data_path/$folder_name/exercise-900.json"
   ]
  },
  {
   "cell_type": "code",
   "execution_count": null,
   "id": "58878fd5-c59e-496f-820c-d74a093e6f90",
   "metadata": {},
   "outputs": [],
   "source": [
    "!head -n 20 $data_path/$folder_name/resting_heart_rate-2022-10-18.json"
   ]
  },
  {
   "cell_type": "markdown",
   "id": "7c67c224-c777-4f69-8ae1-4c62c0609ae5",
   "metadata": {},
   "source": [
    "## Sleep data"
   ]
  },
  {
   "cell_type": "code",
   "execution_count": null,
   "id": "9abeb2d7-28d7-431a-9f9f-88525dbe2b9e",
   "metadata": {},
   "outputs": [],
   "source": [
    "folder_name = 'Sleep'"
   ]
  },
  {
   "cell_type": "code",
   "execution_count": null,
   "id": "14fb11ad-54e7-45e2-84eb-f2c38387ed57",
   "metadata": {},
   "outputs": [],
   "source": [
    "!ls $data_path/$folder_name | grep \".txt\""
   ]
  },
  {
   "cell_type": "code",
   "execution_count": null,
   "id": "ff80323d-0f2d-43c8-8a71-04d1e65a9830",
   "metadata": {},
   "outputs": [],
   "source": [
    "!ls $data_path/$folder_name | grep \"README\""
   ]
  },
  {
   "cell_type": "markdown",
   "id": "69a8a3ac-4910-445b-b96e-c6f45245721f",
   "metadata": {},
   "source": [
    "This list of files shows the available measurement types:"
   ]
  },
  {
   "cell_type": "code",
   "execution_count": null,
   "id": "efd8d09b-0447-4f7c-8104-ae9289f9c646",
   "metadata": {},
   "outputs": [],
   "source": [
    "%%capture capt\n",
    "\n",
    "!ls $data_path/$folder_name "
   ]
  },
  {
   "cell_type": "code",
   "execution_count": null,
   "id": "7b4d0515-0c45-485e-bf7a-c5c5f1882dc4",
   "metadata": {},
   "outputs": [],
   "source": [
    "file_names_list = capt.stdout.split('\\r\\n')"
   ]
  },
  {
   "cell_type": "code",
   "execution_count": null,
   "id": "01bf06b8-6700-4cc7-99ac-5308126333a3",
   "metadata": {},
   "outputs": [],
   "source": [
    "x_last_prefix = ''\n",
    "j = 0\n",
    "for x in list(reversed(file_names_list)):\n",
    "    x_prefix = x.split('-')[0]\n",
    "    if x_prefix != x_last_prefix:\n",
    "        print('\\n-------')\n",
    "        print(f'{x_prefix}\\n')\n",
    "        j = 0\n",
    "        \n",
    "    if j < 5:\n",
    "        print(x)  \n",
    "        \n",
    "    j += 1 \n",
    "    x_last_prefix = x_prefix"
   ]
  },
  {
   "cell_type": "markdown",
   "id": "4948756b-9a2e-4265-8c5c-e6b2202f8748",
   "metadata": {},
   "source": [
    "### Sleep score"
   ]
  },
  {
   "cell_type": "code",
   "execution_count": null,
   "id": "a425029e-8022-495a-897d-8473bea23f67",
   "metadata": {},
   "outputs": [],
   "source": [
    "!head -n 10 $data_path/$folder_name/\"sleep_score.csv\""
   ]
  },
  {
   "cell_type": "markdown",
   "id": "93f094da-1814-4b94-8e59-cdd70074052e",
   "metadata": {},
   "source": [
    "### Sleep data"
   ]
  },
  {
   "cell_type": "code",
   "execution_count": null,
   "id": "ca1ed6b4-a565-41f4-b043-7b9bd8370083",
   "metadata": {
    "tags": []
   },
   "outputs": [],
   "source": [
    "!head -n 100 $data_path/$folder_name/\"sleep-2023-04-06.json\""
   ]
  },
  {
   "cell_type": "markdown",
   "id": "b6ed1df2-a8b2-46ce-9c11-1fd60bebf6bf",
   "metadata": {},
   "source": [
    "### Respiratory Rate Summary"
   ]
  },
  {
   "cell_type": "code",
   "execution_count": null,
   "id": "127a3341-d82d-41ff-8ad4-92616d9d25e7",
   "metadata": {},
   "outputs": [],
   "source": [
    "!cat $data_path/$folder_name/\"Respiratory Rate README.txt\""
   ]
  },
  {
   "cell_type": "code",
   "execution_count": null,
   "id": "a5f8eea1-affb-477d-beae-7820d5b4fde9",
   "metadata": {},
   "outputs": [],
   "source": [
    "!head -n 10 $data_path/$folder_name/\"Respiratory Rate Summary - 2023-04-01.csv\""
   ]
  },
  {
   "cell_type": "markdown",
   "id": "b4cd2b05-8254-4f72-89ca-9401db6fe07c",
   "metadata": {},
   "source": [
    "### Daily Respiratory Rate Summary"
   ]
  },
  {
   "cell_type": "code",
   "execution_count": null,
   "id": "af9d288c-307a-415d-babd-3b5e2701e633",
   "metadata": {},
   "outputs": [],
   "source": [
    "!cat $data_path/$folder_name/\"Daily Respiratory Rate Summary README.txt\""
   ]
  },
  {
   "cell_type": "code",
   "execution_count": null,
   "id": "c42f9dcb-1149-4e1e-9018-3a5b03d65088",
   "metadata": {},
   "outputs": [],
   "source": [
    "!head -n 20 $data_path/$folder_name/\"Daily Respiratory Rate Summary - 2023-04-23.csv\""
   ]
  },
  {
   "cell_type": "code",
   "execution_count": null,
   "id": "5dd08d1e-28b8-40d2-aa65-c67a645b9744",
   "metadata": {},
   "outputs": [],
   "source": [
    "!head -n 20 $data_path/$folder_name/\"Daily Respiratory Rate Summary - 2023-04-22.csv\""
   ]
  },
  {
   "cell_type": "markdown",
   "id": "9d78948b-5b20-479d-9c7b-be95f82796ad",
   "metadata": {},
   "source": [
    "### Daily Heart Rate Variability Summary"
   ]
  },
  {
   "cell_type": "code",
   "execution_count": null,
   "id": "c48fd1fa-3601-40a6-ad1f-ee885fc956d4",
   "metadata": {},
   "outputs": [],
   "source": [
    "!cat $data_path/$folder_name/\"Daily Heart Rate Variability Summary README.txt\""
   ]
  },
  {
   "cell_type": "markdown",
   "id": "b31fc336-b529-4eee-9c2e-275be07a4450",
   "metadata": {},
   "source": [
    "Let's look at some sample raw data in those files."
   ]
  },
  {
   "cell_type": "code",
   "execution_count": null,
   "id": "c070d3ae-c125-4372-a4c7-426885913af0",
   "metadata": {},
   "outputs": [],
   "source": [
    "!head -n 20 $data_path/$folder_name/\"Daily Heart Rate Variability Summary - 2023-04-23.csv\""
   ]
  },
  {
   "cell_type": "code",
   "execution_count": null,
   "id": "1b9542c4-9b6b-4eac-9729-15b398e4126b",
   "metadata": {},
   "outputs": [],
   "source": [
    "!head -n 20 $data_path/$folder_name/\"Daily Heart Rate Variability Summary - 2023-04-22.csv\""
   ]
  },
  {
   "cell_type": "markdown",
   "id": "3fd256cd-d0b7-491a-ba32-bc2d4904b720",
   "metadata": {},
   "source": [
    "### Heart Rate Variability Histogram"
   ]
  },
  {
   "cell_type": "code",
   "execution_count": null,
   "id": "75ffa465-d75b-403a-bb2f-f458b60d380d",
   "metadata": {},
   "outputs": [],
   "source": [
    "!head -n 20 $data_path/$folder_name/\"Heart Rate Variability Histogram - 2023-04-01.csv\""
   ]
  },
  {
   "cell_type": "markdown",
   "id": "7476cba5-d7c4-4dcb-93ba-c65f3f1e446e",
   "metadata": {},
   "source": [
    "### Heart Rate Variability Details"
   ]
  },
  {
   "cell_type": "code",
   "execution_count": null,
   "id": "03cca4a8-942d-4efb-95bf-6a8a686d0f07",
   "metadata": {},
   "outputs": [],
   "source": [
    "!head -n 20 $data_path/$folder_name/\"Heart Rate Variability Details - 2023-04-23.csv\""
   ]
  },
  {
   "cell_type": "markdown",
   "id": "7c5dbfc5-2794-4165-bdba-4aec5c5768fe",
   "metadata": {},
   "source": [
    "## Menstrual Health data"
   ]
  },
  {
   "cell_type": "code",
   "execution_count": null,
   "id": "a99b0adb-7cd0-493c-a55d-e05187a6325f",
   "metadata": {},
   "outputs": [],
   "source": [
    "folder_name = 'Menstrual\\ Health'"
   ]
  },
  {
   "cell_type": "code",
   "execution_count": null,
   "id": "1988c82b-33a7-4e71-84d5-d2cf53fd790e",
   "metadata": {},
   "outputs": [],
   "source": [
    "!ls $data_path/$folder_name | grep \".txt\""
   ]
  },
  {
   "cell_type": "code",
   "execution_count": null,
   "id": "0196997d-53f7-4409-aa6a-55bd3267c3a9",
   "metadata": {},
   "outputs": [],
   "source": [
    "!ls $data_path/$folder_name | grep \"README\""
   ]
  },
  {
   "cell_type": "markdown",
   "id": "31115fde-b7b0-4408-b217-c56f761e9e7f",
   "metadata": {},
   "source": [
    "This list of files shows the available measurement types:"
   ]
  },
  {
   "cell_type": "code",
   "execution_count": null,
   "id": "4ed67b34-7d61-437d-a9b5-2d4a1c236666",
   "metadata": {},
   "outputs": [],
   "source": [
    "%%capture capt\n",
    "\n",
    "!ls $data_path/$folder_name "
   ]
  },
  {
   "cell_type": "code",
   "execution_count": null,
   "id": "c229b484-27d2-4b9e-812e-457c2e811604",
   "metadata": {},
   "outputs": [],
   "source": [
    "file_names_list = capt.stdout.split('\\r\\n')"
   ]
  },
  {
   "cell_type": "code",
   "execution_count": null,
   "id": "97284bf4-510a-4e6d-af5a-33cd25817af6",
   "metadata": {},
   "outputs": [],
   "source": [
    "x_last_prefix = ''\n",
    "j = 0\n",
    "for x in list(reversed(file_names_list)):\n",
    "    x_prefix = x.split('-')[0]\n",
    "    if x_prefix != x_last_prefix:\n",
    "        print('\\n-------')\n",
    "        print(f'{x_prefix}\\n')\n",
    "        j = 0\n",
    "        \n",
    "    if j < 5:\n",
    "        print(x)  \n",
    "        \n",
    "    j += 1 \n",
    "    x_last_prefix = x_prefix"
   ]
  },
  {
   "cell_type": "code",
   "execution_count": null,
   "id": "771efa9e-fbfb-4781-9f22-db5f51e345d7",
   "metadata": {},
   "outputs": [],
   "source": [
    "!cat $data_path/$folder_name/\"menstrual_health_README.txt\""
   ]
  },
  {
   "cell_type": "code",
   "execution_count": null,
   "id": "8b886540-3733-46a9-ae98-db9e4eb79493",
   "metadata": {},
   "outputs": [],
   "source": [
    "!head -n 10 $data_path/$folder_name/\"menstrual_health_cycles.csv\""
   ]
  },
  {
   "cell_type": "code",
   "execution_count": null,
   "id": "f9a346a1-0aad-459c-b90c-00a082c5f214",
   "metadata": {},
   "outputs": [],
   "source": []
  }
 ],
 "metadata": {
  "kernelspec": {
   "display_name": "Python 3 (ipykernel)",
   "language": "python",
   "name": "python3"
  },
  "language_info": {
   "codemirror_mode": {
    "name": "ipython",
    "version": 3
   },
   "file_extension": ".py",
   "mimetype": "text/x-python",
   "name": "python",
   "nbconvert_exporter": "python",
   "pygments_lexer": "ipython3",
   "version": "3.11.3"
  }
 },
 "nbformat": 4,
 "nbformat_minor": 5
}
